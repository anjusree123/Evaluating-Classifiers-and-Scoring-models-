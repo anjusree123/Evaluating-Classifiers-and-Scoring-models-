{
  "nbformat": 4,
  "nbformat_minor": 0,
  "metadata": {
    "colab": {
      "name": "Module2final.ipynb",
      "provenance": [],
      "collapsed_sections": []
    },
    "kernelspec": {
      "name": "ir",
      "display_name": "R"
    },
    "language_info": {
      "name": "R"
    }
  },
  "cells": [
    {
      "cell_type": "code",
      "metadata": {
        "colab": {
          "base_uri": "https://localhost:8080/"
        },
        "id": "Z81EwN5-mrQx",
        "outputId": "17dabc03-0de5-4fae-c2c8-cdf1d403c072"
      },
      "source": [
        "spamd<-read.table(\"spamD.tsv\",header=T,sep=\"\\t\")\n",
        "spamTrain<-subset(spamd,spamd$rgroup>=10)\n",
        "spamTest<-subset(spamd,spamd$rgroup<10)\n",
        "spamVars<-setdiff(colnames(spamd),list('rgroup','spam'))\n",
        "spamFormula<-as.formula(paste('spam==\"spam\"',paste(spamVars,collapse='+'),sep='~'))\n",
        "spamModel<-glm(spamFormula,data=spamTrain,family=binomial(link='logit'))\n",
        "spamTrain$pred<-predict(spamModel,newdata=spamTrain,type='response')\n",
        "spamTest$pred<-predict(spamModel,newdata=spamTest,type='response')\n",
        "print(with(spamTest,table(y=spam,glmPred=pred>=0.5)))\n"
      ],
      "execution_count": 4,
      "outputs": [
        {
          "output_type": "stream",
          "text": [
            "Warning message:\n",
            "“glm.fit: fitted probabilities numerically 0 or 1 occurred”\n"
          ],
          "name": "stderr"
        },
        {
          "output_type": "stream",
          "text": [
            "          glmPred\n",
            "y          FALSE TRUE\n",
            "  non-spam   264   14\n",
            "  spam        22  158\n"
          ],
          "name": "stdout"
        }
      ]
    },
    {
      "cell_type": "markdown",
      "metadata": {
        "id": "xiBEb5PCexou"
      },
      "source": [
        "Evaluating classification Model"
      ]
    },
    {
      "cell_type": "markdown",
      "metadata": {
        "id": "bLEdd89CaJw6"
      },
      "source": [
        "Confusion Matrix"
      ]
    },
    {
      "cell_type": "code",
      "metadata": {
        "colab": {
          "base_uri": "https://localhost:8080/"
        },
        "id": "SCW7DRZtZnFC",
        "outputId": "eda5a056-11b8-4d83-eedf-18118f02c333"
      },
      "source": [
        "cM<-table(truth=spamTest$spam,prediction=spamTest$pred>0.5)\n",
        "print(cM)\n"
      ],
      "execution_count": 5,
      "outputs": [
        {
          "output_type": "stream",
          "text": [
            "          prediction\n",
            "truth      FALSE TRUE\n",
            "  non-spam   264   14\n",
            "  spam        22  158\n"
          ],
          "name": "stdout"
        }
      ]
    },
    {
      "cell_type": "markdown",
      "metadata": {
        "id": "wx08ffWKaIAC"
      },
      "source": [
        "Accuracy"
      ]
    },
    {
      "cell_type": "code",
      "metadata": {
        "colab": {
          "base_uri": "https://localhost:8080/",
          "height": 34
        },
        "id": "62WBBtGkZ2HZ",
        "outputId": "7f54cdb3-23b3-4396-ce4a-a74f459baebb"
      },
      "source": [
        "   k<-(cM[1,1]+cM[2,2])/sum(cM)\n",
        "   k"
      ],
      "execution_count": 6,
      "outputs": [
        {
          "output_type": "display_data",
          "data": {
            "text/plain": [
              "[1] 0.9213974"
            ],
            "text/latex": "0.921397379912664",
            "text/markdown": "0.921397379912664",
            "text/html": [
              "0.921397379912664"
            ]
          },
          "metadata": {
            "tags": []
          }
        }
      ]
    },
    {
      "cell_type": "markdown",
      "metadata": {
        "id": "kd0C6aFyaNHu"
      },
      "source": [
        "Precision"
      ]
    },
    {
      "cell_type": "code",
      "metadata": {
        "colab": {
          "base_uri": "https://localhost:8080/",
          "height": 34
        },
        "id": "HDNSBegIaO_d",
        "outputId": "415d65da-3d8d-4977-8b34-cd3b3eb71e10"
      },
      "source": [
        "pre<-cM[2,2]/(cM[2,2]+cM[1,2])\n",
        "pre"
      ],
      "execution_count": 8,
      "outputs": [
        {
          "output_type": "display_data",
          "data": {
            "text/plain": [
              "[1] 0.9186047"
            ],
            "text/latex": "0.918604651162791",
            "text/markdown": "0.918604651162791",
            "text/html": [
              "0.918604651162791"
            ]
          },
          "metadata": {
            "tags": []
          }
        }
      ]
    },
    {
      "cell_type": "markdown",
      "metadata": {
        "id": "v828HTK8aech"
      },
      "source": [
        "Recall"
      ]
    },
    {
      "cell_type": "code",
      "metadata": {
        "colab": {
          "base_uri": "https://localhost:8080/",
          "height": 34
        },
        "id": "O6_jzo81agQL",
        "outputId": "454ebb7b-cfe6-45bc-8108-8bcf8bf17ab3"
      },
      "source": [
        "Rec<-cM[2,2]/ (cM[2,2]+cM[2,1])\n",
        "Rec"
      ],
      "execution_count": 10,
      "outputs": [
        {
          "output_type": "display_data",
          "data": {
            "text/plain": [
              "[1] 0.8777778"
            ],
            "text/latex": "0.877777777777778",
            "text/markdown": "0.877777777777778",
            "text/html": [
              "0.877777777777778"
            ]
          },
          "metadata": {
            "tags": []
          }
        }
      ]
    },
    {
      "cell_type": "markdown",
      "metadata": {
        "id": "e2h9JETNb6aa"
      },
      "source": [
        "F1 score"
      ]
    },
    {
      "cell_type": "code",
      "metadata": {
        "colab": {
          "base_uri": "https://localhost:8080/",
          "height": 34
        },
        "id": "OQ_8A6Xpb8XD",
        "outputId": "fc265439-edc9-42e2-9225-ce8d6f1b50e0"
      },
      "source": [
        "fscore<-(2*pre*Rec)/(Rec+pre)\n",
        "fscore"
      ],
      "execution_count": 12,
      "outputs": [
        {
          "output_type": "display_data",
          "data": {
            "text/plain": [
              "[1] 0.8977273"
            ],
            "text/latex": "0.897727272727273",
            "text/markdown": "0.897727272727273",
            "text/html": [
              "0.897727272727273"
            ]
          },
          "metadata": {
            "tags": []
          }
        }
      ]
    },
    {
      "cell_type": "markdown",
      "metadata": {
        "id": "fp6LbUIKcYH0"
      },
      "source": [
        "Specificity"
      ]
    },
    {
      "cell_type": "code",
      "metadata": {
        "colab": {
          "base_uri": "https://localhost:8080/",
          "height": 34
        },
        "id": "jJ8ttfAocav4",
        "outputId": "b93d4266-f0b4-4eb4-a9d9-fe4fd90abd62"
      },
      "source": [
        "specf<-(cM[2,2])/(cM[2,2]+cM[1,2])\n",
        "specf"
      ],
      "execution_count": 16,
      "outputs": [
        {
          "output_type": "display_data",
          "data": {
            "text/plain": [
              "[1] 0.9186047"
            ],
            "text/latex": "0.918604651162791",
            "text/markdown": "0.918604651162791",
            "text/html": [
              "0.918604651162791"
            ]
          },
          "metadata": {
            "tags": []
          }
        }
      ]
    },
    {
      "cell_type": "markdown",
      "metadata": {
        "id": "u29_VyxifGoS"
      },
      "source": [
        "Evaluating Scoring Models"
      ]
    },
    {
      "cell_type": "code",
      "metadata": {
        "colab": {
          "base_uri": "https://localhost:8080/",
          "height": 437
        },
        "id": "vxsJQ3gCfKf5",
        "outputId": "a955b04f-8393-40c5-cc71-2dd13a9ab437"
      },
      "source": [
        "y=(1:10)^2\n",
        "x=(1:10)\n",
        "d<-data.frame(y,x)\n",
        "model<-lm(y~x,data=d)\n",
        "d$prediction<-predict(model,newdata=d)\n",
        "library(\"ggplot2\")\n",
        "ggplot(data=d)+geom_point(aes(x=x,y=y))+geom_line(aes(x=x,y=prediction),color='blue')+geom_segment(aes(x=x,y=prediction,yend=y,xend=x))+scale_y_continuous('')\n"
      ],
      "execution_count": 22,
      "outputs": [
        {
          "output_type": "display_data",
          "data": {
            "image/png": "[encoded data removed]",
            "text/plain": [
              "plot without title"
            ]
          },
          "metadata": {
            "tags": [],
            "image/png": {
              "width": 420,
              "height": 420
            }
          }
        }
      ]
    },
    {
      "cell_type": "markdown",
      "metadata": {
        "id": "q5In-JYBgHiY"
      },
      "source": [
        "Root Mean Square Error"
      ]
    },
    {
      "cell_type": "code",
      "metadata": {
        "colab": {
          "base_uri": "https://localhost:8080/",
          "height": 34
        },
        "id": "rnqJyZZEgGiy",
        "outputId": "dc389a83-e4cd-4e36-ba78-a0c061b3af19"
      },
      "source": [
        "\n",
        "rmse<-sqrt(mean(d$prediction-y)^2)\n",
        "rmse"
      ],
      "execution_count": 23,
      "outputs": [
        {
          "output_type": "display_data",
          "data": {
            "text/plain": [
              "[1] 1.421259e-15"
            ],
            "text/latex": "1.4212589438678e-15",
            "text/markdown": "1.4212589438678e-15",
            "text/html": [
              "1.4212589438678e-15"
            ]
          },
          "metadata": {
            "tags": []
          }
        }
      ]
    },
    {
      "cell_type": "markdown",
      "metadata": {
        "id": "KnoAqooShTYk"
      },
      "source": [
        "R squared"
      ]
    },
    {
      "cell_type": "code",
      "metadata": {
        "colab": {
          "base_uri": "https://localhost:8080/",
          "height": 34
        },
        "id": "zf1Nj6y2hVQa",
        "outputId": "f15332df-f381-41a3-d3f4-a9781068c4ff"
      },
      "source": [
        "Rsquared<-1-sum((d$prediction-d$y)^2)/sum((mean(d$y)-\n",
        "d$y)^2)\n",
        "Rsquared"
      ],
      "execution_count": 25,
      "outputs": [
        {
          "output_type": "display_data",
          "data": {
            "text/plain": [
              "[1] 0.9497645"
            ],
            "text/latex": "0.949764521193093",
            "text/markdown": "0.949764521193093",
            "text/html": [
              "0.949764521193093"
            ]
          },
          "metadata": {
            "tags": []
          }
        }
      ]
    },
    {
      "cell_type": "markdown",
      "metadata": {
        "id": "p3k6SMfxngRV"
      },
      "source": [
        "Correlation\n",
        "\n",
        "\n",
        "cor(x, y, method = c(\"pearson\", \"kendall\", \"spearman\"))"
      ]
    },
    {
      "cell_type": "code",
      "metadata": {
        "colab": {
          "base_uri": "https://localhost:8080/",
          "height": 34
        },
        "id": "seHiTgJrnq9_",
        "outputId": "b6d5ed74-ab58-4058-d989-6d51c2f09c12"
      },
      "source": [
        "co<-cor(x,y,method=\"pearson\")\n",
        "co"
      ],
      "execution_count": 29,
      "outputs": [
        {
          "output_type": "display_data",
          "data": {
            "text/plain": [
              "[1] 0.9745586"
            ],
            "text/latex": "0.974558628915209",
            "text/markdown": "0.974558628915209",
            "text/html": [
              "0.974558628915209"
            ]
          },
          "metadata": {
            "tags": []
          }
        }
      ]
    },
    {
      "cell_type": "markdown",
      "metadata": {
        "id": "vg1vA5-coT8H"
      },
      "source": [
        "Absolute Error"
      ]
    },
    {
      "cell_type": "code",
      "metadata": {
        "colab": {
          "base_uri": "https://localhost:8080/",
          "height": 34
        },
        "id": "WV2BSQryodew",
        "outputId": "2274b625-de00-4025-ca7b-02816d921f5e"
      },
      "source": [
        "abserror<-(sum(abs(d$prediction-d$y)))\n",
        "abserror"
      ],
      "execution_count": 30,
      "outputs": [
        {
          "output_type": "display_data",
          "data": {
            "text/plain": [
              "[1] 64"
            ],
            "text/latex": "64",
            "text/markdown": "64",
            "text/html": [
              "64"
            ]
          },
          "metadata": {
            "tags": []
          }
        }
      ]
    },
    {
      "cell_type": "markdown",
      "metadata": {
        "id": "t_TceddYoWhr"
      },
      "source": [
        "Mean Absolute error"
      ]
    },
    {
      "cell_type": "code",
      "metadata": {
        "colab": {
          "base_uri": "https://localhost:8080/",
          "height": 34
        },
        "id": "Z652tXPholze",
        "outputId": "f43b9b6e-7cce-47cd-8be0-3428cf54e85f"
      },
      "source": [
        "meanabster<-(sum(abs(d$prediction-d$y))/length(d$y))\n",
        "meanabster"
      ],
      "execution_count": 31,
      "outputs": [
        {
          "output_type": "display_data",
          "data": {
            "text/plain": [
              "[1] 6.4"
            ],
            "text/latex": "6.4",
            "text/markdown": "6.4",
            "text/html": [
              "6.4"
            ]
          },
          "metadata": {
            "tags": []
          }
        }
      ]
    },
    {
      "cell_type": "markdown",
      "metadata": {
        "id": "B_07fqg8oZgd"
      },
      "source": [
        "Relative absolute error"
      ]
    },
    {
      "cell_type": "code",
      "metadata": {
        "colab": {
          "base_uri": "https://localhost:8080/",
          "height": 34
        },
        "id": "83eJG2bao1AC",
        "outputId": "deefefe6-1d20-46a8-ab5f-07debd1b1337"
      },
      "source": [
        "relabserr<-(sum(abs(d$prediction-d$y))/sum(abs(d$y))) \n",
        "relabserr"
      ],
      "execution_count": 32,
      "outputs": [
        {
          "output_type": "display_data",
          "data": {
            "text/plain": [
              "[1] 0.1662338"
            ],
            "text/latex": "0.166233766233766",
            "text/markdown": "0.166233766233766",
            "text/html": [
              "0.166233766233766"
            ]
          },
          "metadata": {
            "tags": []
          }
        }
      ]
    }
  ]
}